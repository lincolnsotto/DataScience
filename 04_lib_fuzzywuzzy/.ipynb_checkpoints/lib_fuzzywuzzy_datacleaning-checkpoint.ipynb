{
 "cells": [
  {
   "cell_type": "markdown",
   "metadata": {},
   "source": [
    "# Data Cleaning with FuzzyWuzzy"
   ]
  },
  {
   "cell_type": "code",
   "execution_count": 3,
   "metadata": {},
   "outputs": [
    {
     "name": "stdout",
     "output_type": "stream",
     "text": [
      "Requirement already satisfied: fuzzywuzzy in /anaconda3/lib/python3.6/site-packages (0.17.0)\r\n"
     ]
    }
   ],
   "source": [
    "#!pip install fuzzywuzzy"
   ]
  },
  {
   "cell_type": "code",
   "execution_count": 102,
   "metadata": {},
   "outputs": [],
   "source": [
    "from fuzzywuzzy import fuzz\n",
    "from fuzzywuzzy import process\n",
    "from collections import OrderedDict\n",
    "import pandas as pd\n"
   ]
  },
  {
   "cell_type": "code",
   "execution_count": 26,
   "metadata": {},
   "outputs": [
    {
     "data": {
      "text/plain": [
       "95"
      ]
     },
     "execution_count": 26,
     "metadata": {},
     "output_type": "execute_result"
    }
   ],
   "source": [
    "#function for exact similarity\n",
    "fuzz.ratio('São paulo','São paullo')"
   ]
  },
  {
   "cell_type": "code",
   "execution_count": 27,
   "metadata": {},
   "outputs": [
    {
     "data": {
      "text/plain": [
       "93"
      ]
     },
     "execution_count": 27,
     "metadata": {},
     "output_type": "execute_result"
    }
   ],
   "source": [
    "city1 = 'barretos'\n",
    "city2 = 'baretos'\n",
    "fuzz.ratio(city1,city2)"
   ]
  },
  {
   "cell_type": "code",
   "execution_count": 28,
   "metadata": {},
   "outputs": [
    {
     "data": {
      "text/plain": [
       "88"
      ]
     },
     "execution_count": 28,
     "metadata": {},
     "output_type": "execute_result"
    }
   ],
   "source": [
    "city3 = 'Barretos'\n",
    "city4 = 'barretos'\n",
    "fuzz.ratio(city3,city4)"
   ]
  },
  {
   "cell_type": "code",
   "execution_count": 29,
   "metadata": {},
   "outputs": [
    {
     "data": {
      "text/plain": [
       "29"
      ]
     },
     "execution_count": 29,
     "metadata": {},
     "output_type": "execute_result"
    }
   ],
   "source": [
    "fuzz.ratio('lincoln','fabiana')"
   ]
  },
  {
   "cell_type": "code",
   "execution_count": 30,
   "metadata": {},
   "outputs": [],
   "source": [
    "#function for partial similarity"
   ]
  },
  {
   "cell_type": "code",
   "execution_count": 31,
   "metadata": {},
   "outputs": [
    {
     "data": {
      "text/plain": [
       "46"
      ]
     },
     "execution_count": 31,
     "metadata": {},
     "output_type": "execute_result"
    }
   ],
   "source": [
    "teste1 = 'lincoln'\n",
    "teste2 = 'nlocnil'\n",
    "fuzz.partial_ratio(teste1,teste2)"
   ]
  },
  {
   "cell_type": "code",
   "execution_count": 32,
   "metadata": {},
   "outputs": [
    {
     "data": {
      "text/plain": [
       "86"
      ]
     },
     "execution_count": 32,
     "metadata": {},
     "output_type": "execute_result"
    }
   ],
   "source": [
    "teste3 = '##@!Lincoln!!@##'\n",
    "teste4 = 'lincoln'\n",
    "fuzz.partial_ratio(teste3,teste4)"
   ]
  },
  {
   "cell_type": "code",
   "execution_count": 47,
   "metadata": {},
   "outputs": [
    {
     "data": {
      "text/plain": [
       "100"
      ]
     },
     "execution_count": 47,
     "metadata": {},
     "output_type": "execute_result"
    }
   ],
   "source": [
    "teste5 = 'São Paulo'\n",
    "teste6 = 'Paulo São'\n",
    "fuzz.partial_token_sort_ratio(teste5,teste6)"
   ]
  },
  {
   "cell_type": "code",
   "execution_count": 40,
   "metadata": {},
   "outputs": [
    {
     "data": {
      "text/plain": [
       "100"
      ]
     },
     "execution_count": 40,
     "metadata": {},
     "output_type": "execute_result"
    }
   ],
   "source": [
    "teste7 = 'brasil'\n",
    "teste8 = 'BRASIL'\n",
    "fuzz.partial_token_sort_ratio(teste7,teste8)"
   ]
  },
  {
   "cell_type": "code",
   "execution_count": 48,
   "metadata": {},
   "outputs": [],
   "source": [
    "#Working with lists"
   ]
  },
  {
   "cell_type": "code",
   "execution_count": 49,
   "metadata": {},
   "outputs": [],
   "source": [
    "lista = ['Mudança de endereço','Mud de end..','mudanca de endereco!','mudança de end']"
   ]
  },
  {
   "cell_type": "code",
   "execution_count": 50,
   "metadata": {},
   "outputs": [
    {
     "data": {
      "text/plain": [
       "['Mudança de endereço', 'Mud de end', 'mudanca de endereco', 'mudança de end']"
      ]
     },
     "execution_count": 50,
     "metadata": {},
     "output_type": "execute_result"
    }
   ],
   "source": [
    "lista"
   ]
  },
  {
   "cell_type": "code",
   "execution_count": 55,
   "metadata": {},
   "outputs": [
    {
     "data": {
      "text/plain": [
       "[('Mudança de endereço', 100),\n",
       " ('mudança de end', 100),\n",
       " ('mudanca de endereco', 89),\n",
       " ('Mud de end', 70)]"
      ]
     },
     "execution_count": 55,
     "metadata": {},
     "output_type": "execute_result"
    }
   ],
   "source": [
    "process.extract('Mudança de endereço',lista,scorer=fuzz.partial_ratio)"
   ]
  },
  {
   "cell_type": "code",
   "execution_count": 56,
   "metadata": {},
   "outputs": [],
   "source": [
    "#limiting the return"
   ]
  },
  {
   "cell_type": "code",
   "execution_count": 57,
   "metadata": {},
   "outputs": [
    {
     "data": {
      "text/plain": [
       "[('Mudança de endereço', 100), ('mudança de end', 100)]"
      ]
     },
     "execution_count": 57,
     "metadata": {},
     "output_type": "execute_result"
    }
   ],
   "source": [
    "process.extract('Mudança de endereço',lista,scorer=fuzz.partial_ratio,limit=2) #the two high value"
   ]
  },
  {
   "cell_type": "code",
   "execution_count": 69,
   "metadata": {},
   "outputs": [
    {
     "data": {
      "text/plain": [
       "('Mudança de endereço', 100)"
      ]
     },
     "execution_count": 69,
     "metadata": {},
     "output_type": "execute_result"
    }
   ],
   "source": [
    "process.extractOne('Mudança de endereço',lista,scorer=fuzz.partial_ratio,score_cutoff=100) #the two high value"
   ]
  },
  {
   "cell_type": "markdown",
   "metadata": {},
   "source": [
    "# Data cleaning in the data frame"
   ]
  },
  {
   "cell_type": "code",
   "execution_count": 77,
   "metadata": {},
   "outputs": [],
   "source": [
    "#creating a dictionary\n",
    "data = OrderedDict(\n",
    "    {'descricao': ['Mudança de endereço','Mud de end..','mudanca de endereco!','mudança de end','Instalação Velox',\n",
    "                   'Inst Vlx','Instacao Velox']  \n",
    "    })"
   ]
  },
  {
   "cell_type": "code",
   "execution_count": 78,
   "metadata": {},
   "outputs": [
    {
     "data": {
      "text/plain": [
       "OrderedDict([('descricao',\n",
       "              ['Mudança de endereço',\n",
       "               'Mud de end..',\n",
       "               'mudanca de endereco!',\n",
       "               'mudança de end',\n",
       "               'Instalação Velox',\n",
       "               'Inst Vlx',\n",
       "               'Instacao Velox'])])"
      ]
     },
     "execution_count": 78,
     "metadata": {},
     "output_type": "execute_result"
    }
   ],
   "source": [
    "data"
   ]
  },
  {
   "cell_type": "code",
   "execution_count": 95,
   "metadata": {},
   "outputs": [],
   "source": [
    "#using lib pandas for create a dataframe\n",
    "df = pd.DataFrame(data)"
   ]
  },
  {
   "cell_type": "code",
   "execution_count": 96,
   "metadata": {},
   "outputs": [
    {
     "data": {
      "text/html": [
       "<div>\n",
       "<style scoped>\n",
       "    .dataframe tbody tr th:only-of-type {\n",
       "        vertical-align: middle;\n",
       "    }\n",
       "\n",
       "    .dataframe tbody tr th {\n",
       "        vertical-align: top;\n",
       "    }\n",
       "\n",
       "    .dataframe thead th {\n",
       "        text-align: right;\n",
       "    }\n",
       "</style>\n",
       "<table border=\"1\" class=\"dataframe\">\n",
       "  <thead>\n",
       "    <tr style=\"text-align: right;\">\n",
       "      <th></th>\n",
       "      <th>descricao</th>\n",
       "    </tr>\n",
       "  </thead>\n",
       "  <tbody>\n",
       "    <tr>\n",
       "      <th>0</th>\n",
       "      <td>Mudança de endereço</td>\n",
       "    </tr>\n",
       "    <tr>\n",
       "      <th>1</th>\n",
       "      <td>Mud de end..</td>\n",
       "    </tr>\n",
       "    <tr>\n",
       "      <th>2</th>\n",
       "      <td>mudanca de endereco!</td>\n",
       "    </tr>\n",
       "    <tr>\n",
       "      <th>3</th>\n",
       "      <td>mudança de end</td>\n",
       "    </tr>\n",
       "    <tr>\n",
       "      <th>4</th>\n",
       "      <td>Instalação Velox</td>\n",
       "    </tr>\n",
       "    <tr>\n",
       "      <th>5</th>\n",
       "      <td>Inst Vlx</td>\n",
       "    </tr>\n",
       "    <tr>\n",
       "      <th>6</th>\n",
       "      <td>Instacao Velox</td>\n",
       "    </tr>\n",
       "  </tbody>\n",
       "</table>\n",
       "</div>"
      ],
      "text/plain": [
       "              descricao\n",
       "0   Mudança de endereço\n",
       "1          Mud de end..\n",
       "2  mudanca de endereco!\n",
       "3        mudança de end\n",
       "4      Instalação Velox\n",
       "5              Inst Vlx\n",
       "6        Instacao Velox"
      ]
     },
     "execution_count": 96,
     "metadata": {},
     "output_type": "execute_result"
    }
   ],
   "source": [
    "df"
   ]
  },
  {
   "cell_type": "code",
   "execution_count": 97,
   "metadata": {},
   "outputs": [],
   "source": [
    "lista_cidades = ['Mudança de endereço','Instalação Velox']"
   ]
  },
  {
   "cell_type": "code",
   "execution_count": 98,
   "metadata": {},
   "outputs": [
    {
     "data": {
      "text/plain": [
       "['Mudança de endereço', 'Instalação Velox']"
      ]
     },
     "execution_count": 98,
     "metadata": {},
     "output_type": "execute_result"
    }
   ],
   "source": [
    "lista_cidades"
   ]
  },
  {
   "cell_type": "code",
   "execution_count": 110,
   "metadata": {},
   "outputs": [
    {
     "name": "stdout",
     "output_type": "stream",
     "text": [
      "Mudança de endereço, Mudança de endereço, similaridade: 100\n",
      "Mudança de endereço, Mud de end.., similaridade: 67\n",
      "Mudança de endereço, mudanca de endereco!, similaridade: 94\n",
      "Mudança de endereço, mudança de end, similaridade: 73\n",
      "Mudança de endereço, Instalação Velox, similaridade: 25\n",
      "Mudança de endereço, Inst Vlx, similaridade: 30\n",
      "Mudança de endereço, Instacao Velox, similaridade: 25\n",
      "Instalação Velox, Mudança de endereço, similaridade: 21\n",
      "Instalação Velox, Mud de end.., similaridade: 21\n",
      "Instalação Velox, mudanca de endereco!, similaridade: 21\n",
      "Instalação Velox, mudança de end, similaridade: 25\n",
      "Instalação Velox, Instalação Velox, similaridade: 100\n",
      "Instalação Velox, Inst Vlx, similaridade: 60\n",
      "Instalação Velox, Instacao Velox, similaridade: 93\n"
     ]
    }
   ],
   "source": [
    "for cidade in lista_cidades:\n",
    "    for i in df.descricao.items():\n",
    "        print('{}, {}, similaridade: {}'.format(cidade, i[1], fuzz.partial_token_sort_ratio(cidade,i)))"
   ]
  },
  {
   "cell_type": "code",
   "execution_count": 111,
   "metadata": {},
   "outputs": [],
   "source": [
    "#Update the line to dataframe"
   ]
  },
  {
   "cell_type": "code",
   "execution_count": 118,
   "metadata": {},
   "outputs": [
    {
     "name": "stdout",
     "output_type": "stream",
     "text": [
      "Mudança de endereço, Mudança de endereço, similaridade: 100\n",
      "Mudança de endereço, Mudança de endereço, similaridade: 100\n",
      "Mudança de endereço, Mudança de endereço, similaridade: 100\n",
      "Mudança de endereço, Mudança de endereço, similaridade: 100\n",
      "Mudança de endereço, Instalação Velox, similaridade: 25\n",
      "Mudança de endereço, Inst Vlx, similaridade: 30\n",
      "Mudança de endereço, Instalação Velox, similaridade: 25\n",
      "Instalação Velox, Mudança de endereço, similaridade: 21\n",
      "Instalação Velox, Mudança de endereço, similaridade: 21\n",
      "Instalação Velox, Mudança de endereço, similaridade: 21\n",
      "Instalação Velox, Mudança de endereço, similaridade: 21\n",
      "Instalação Velox, Instalação Velox, similaridade: 100\n",
      "Instalação Velox, Inst Vlx, similaridade: 60\n",
      "Instalação Velox, Instalação Velox, similaridade: 100\n"
     ]
    }
   ],
   "source": [
    "for cidade in lista_cidades:\n",
    "    for i in df.descricao.items():\n",
    "        print('{}, {}, similaridade: {}'.format(cidade, i[1], fuzz.partial_token_sort_ratio(cidade,i)))\n",
    "        if fuzz.partial_token_sort_ratio(cidade,i[1]) >= 60:\n",
    "             df.loc[df['descricao'] == i[1], ['descricao']] = cidade"
   ]
  },
  {
   "cell_type": "code",
   "execution_count": 119,
   "metadata": {},
   "outputs": [
    {
     "data": {
      "text/html": [
       "<div>\n",
       "<style scoped>\n",
       "    .dataframe tbody tr th:only-of-type {\n",
       "        vertical-align: middle;\n",
       "    }\n",
       "\n",
       "    .dataframe tbody tr th {\n",
       "        vertical-align: top;\n",
       "    }\n",
       "\n",
       "    .dataframe thead th {\n",
       "        text-align: right;\n",
       "    }\n",
       "</style>\n",
       "<table border=\"1\" class=\"dataframe\">\n",
       "  <thead>\n",
       "    <tr style=\"text-align: right;\">\n",
       "      <th></th>\n",
       "      <th>descricao</th>\n",
       "    </tr>\n",
       "  </thead>\n",
       "  <tbody>\n",
       "    <tr>\n",
       "      <th>0</th>\n",
       "      <td>Mudança de endereço</td>\n",
       "    </tr>\n",
       "    <tr>\n",
       "      <th>1</th>\n",
       "      <td>Mudança de endereço</td>\n",
       "    </tr>\n",
       "    <tr>\n",
       "      <th>2</th>\n",
       "      <td>Mudança de endereço</td>\n",
       "    </tr>\n",
       "    <tr>\n",
       "      <th>3</th>\n",
       "      <td>Mudança de endereço</td>\n",
       "    </tr>\n",
       "    <tr>\n",
       "      <th>4</th>\n",
       "      <td>Instalação Velox</td>\n",
       "    </tr>\n",
       "    <tr>\n",
       "      <th>5</th>\n",
       "      <td>Instalação Velox</td>\n",
       "    </tr>\n",
       "    <tr>\n",
       "      <th>6</th>\n",
       "      <td>Instalação Velox</td>\n",
       "    </tr>\n",
       "  </tbody>\n",
       "</table>\n",
       "</div>"
      ],
      "text/plain": [
       "             descricao\n",
       "0  Mudança de endereço\n",
       "1  Mudança de endereço\n",
       "2  Mudança de endereço\n",
       "3  Mudança de endereço\n",
       "4     Instalação Velox\n",
       "5     Instalação Velox\n",
       "6     Instalação Velox"
      ]
     },
     "execution_count": 119,
     "metadata": {},
     "output_type": "execute_result"
    }
   ],
   "source": [
    "df"
   ]
  },
  {
   "cell_type": "code",
   "execution_count": null,
   "metadata": {},
   "outputs": [],
   "source": []
  }
 ],
 "metadata": {
  "kernelspec": {
   "display_name": "Python 3",
   "language": "python",
   "name": "python3"
  },
  "language_info": {
   "codemirror_mode": {
    "name": "ipython",
    "version": 3
   },
   "file_extension": ".py",
   "mimetype": "text/x-python",
   "name": "python",
   "nbconvert_exporter": "python",
   "pygments_lexer": "ipython3",
   "version": "3.6.4"
  }
 },
 "nbformat": 4,
 "nbformat_minor": 2
}
